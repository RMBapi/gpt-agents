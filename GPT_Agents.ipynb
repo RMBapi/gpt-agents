{
  "cells": [
    {
      "cell_type": "code",
      "execution_count": null,
      "metadata": {
        "id": "nItSgHBqkQ07"
      },
      "outputs": [],
      "source": [
        "pip install langchain"
      ]
    },
    {
      "cell_type": "code",
      "execution_count": null,
      "metadata": {
        "id": "hIm7145SlSmp"
      },
      "outputs": [],
      "source": [
        "pip install openai"
      ]
    },
    {
      "cell_type": "code",
      "execution_count": null,
      "metadata": {
        "id": "OclyDdG_jgFs"
      },
      "outputs": [],
      "source": [
        "import warnings\n",
        "warnings.filterwarnings('ignore')"
      ]
    },
    {
      "cell_type": "code",
      "execution_count": null,
      "metadata": {
        "id": "TsHI0jFYlNUm"
      },
      "outputs": [],
      "source": [
        "import os\n",
        "os.environ[\"OPENAI_API_KEY\"] = \"\"\n",
        "from langchain.llms import OpenAI\n",
        "llm = OpenAI(openai_api_key=\"OPENAI_API_KEY\")"
      ]
    },
    {
      "cell_type": "code",
      "execution_count": null,
      "metadata": {
        "id": "m8JhNjsukonC"
      },
      "outputs": [],
      "source": [
        "pip install python-dotenv"
      ]
    },
    {
      "cell_type": "code",
      "execution_count": null,
      "metadata": {
        "id": "rxftObrVkAW0"
      },
      "outputs": [],
      "source": [
        "import os\n",
        "\n",
        "from dotenv import load_dotenv, find_dotenv\n",
        "_ = load_dotenv(find_dotenv())\n",
        "\n",
        "import warnings\n",
        "warnings.filterwarnings(\"ignore\")"
      ]
    },
    {
      "cell_type": "code",
      "execution_count": null,
      "metadata": {
        "id": "9BSMyqF_kzGX"
      },
      "outputs": [],
      "source": [
        "pip install -U wikipedia"
      ]
    },
    {
      "cell_type": "code",
      "execution_count": null,
      "metadata": {
        "id": "c0mZPaFEk8S3"
      },
      "outputs": [],
      "source": [
        "from langchain.agents.agent_toolkits import create_python_agent\n",
        "from langchain.agents import load_tools, initialize_agent\n",
        "from langchain.agents import AgentType\n",
        "from langchain.tools.python.tool import PythonREPLTool\n",
        "from langchain.python import PythonREPL\n",
        "from langchain.chat_models import ChatOpenAI"
      ]
    },
    {
      "cell_type": "code",
      "execution_count": null,
      "metadata": {
        "id": "0iRQtdm5lDjm"
      },
      "outputs": [],
      "source": [
        "llm = ChatOpenAI(temperature=0)"
      ]
    },
    {
      "cell_type": "code",
      "execution_count": null,
      "metadata": {
        "id": "uqDSz3Jzr-nh"
      },
      "outputs": [],
      "source": [
        "tools = load_tools([\"llm-math\",\"wikipedia\"], llm=llm)"
      ]
    },
    {
      "cell_type": "code",
      "execution_count": null,
      "metadata": {
        "id": "e9YLQrtmsAyQ"
      },
      "outputs": [],
      "source": [
        "agent= initialize_agent(\n",
        "    tools,\n",
        "    llm,\n",
        "    agent=AgentType.CHAT_ZERO_SHOT_REACT_DESCRIPTION,\n",
        "    handle_parsing_errors=True,\n",
        "    verbose = True)"
      ]
    },
    {
      "cell_type": "code",
      "execution_count": null,
      "metadata": {
        "colab": {
          "base_uri": "https://localhost:8080/"
        },
        "id": "6mshD3PesDIj",
        "outputId": "6fc3b117-4c4c-4638-e961-69bd1a7ada81"
      },
      "outputs": [
        {
          "name": "stdout",
          "output_type": "stream",
          "text": [
            "\n",
            "\n",
            "\u001b[1m> Entering new  chain...\u001b[0m\n",
            "\u001b[32;1m\u001b[1;3mThought: We need to calculate 25% of 300, which means we need to multiply 300 by 0.25.\n",
            "\n",
            "Action:\n",
            "```\n",
            "{\n",
            "  \"action\": \"Calculator\",\n",
            "  \"action_input\": \"300*0.25\"\n",
            "}\n",
            "```\n",
            "\n",
            "\u001b[0m\n",
            "Observation: \u001b[36;1m\u001b[1;3mAnswer: 75.0\u001b[0m\n",
            "Thought:\u001b[32;1m\u001b[1;3mWe have the answer to the question.\n",
            "\n",
            "Final Answer: 75.0\u001b[0m\n",
            "\n",
            "\u001b[1m> Finished chain.\u001b[0m\n"
          ]
        },
        {
          "data": {
            "text/plain": [
              "{'input': 'What is the 25% of 300?', 'output': '75.0'}"
            ]
          },
          "execution_count": 13,
          "metadata": {},
          "output_type": "execute_result"
        }
      ],
      "source": [
        "agent(\"What is the 25% of 300?\")"
      ]
    },
    {
      "cell_type": "code",
      "execution_count": null,
      "metadata": {
        "colab": {
          "base_uri": "https://localhost:8080/"
        },
        "id": "unjAXjROsFnw",
        "outputId": "84403a3e-d88f-4e20-bb0f-00e2fef0b89e"
      },
      "outputs": [
        {
          "name": "stdout",
          "output_type": "stream",
          "text": [
            "\n",
            "\n",
            "\u001b[1m> Entering new  chain...\u001b[0m\n",
            "\u001b[32;1m\u001b[1;3mQuestion: Tell me about IUB\n",
            "Thought: IUB could refer to many things, I need to clarify what the user is asking about\n",
            "Action:\n",
            "```\n",
            "{\n",
            "  \"action\": \"Wikipedia\",\n",
            "  \"action_input\": \"IUB\"\n",
            "}\n",
            "```\n",
            "\u001b[0m\n",
            "Observation: \u001b[33;1m\u001b[1;3mPage: Independent University, Bangladesh\n",
            "Summary: Independent University, Bangladesh (Bengali: ইন্ডিপেন্ডেন্ট বিশ্ববিদ্যালয়) or IUB is a private university in Bangladesh. It is located in Bashundhara Residential Area of Dhaka, Bangladesh. It was established in 1993 under the Private University Act, 1992. IUB has 10,000 students, 11,556 alumni, and 401 faculty members (of which 70% has Ph.D. mostly from North America). The campus is spread over three and a half acres and is well-equipped with an amphitheater, a library, state-of-the-art laboratories, and more than 120 classrooms. The university is committed to research and global partnerships. This is why students are encouraged to engage in research projects, alongside conventional classroom-based learning. The Independent University has academic research collaborations with a number of prestigious universities including Harvard University, Stanford University, and the University of Colorado at Boulder.\n",
            "IUB is the only university in Bangladesh that was shortlisted in the Times Higher Education (THE) Awards 2020 for student recruitment campaign of the year. IUB's position is at the top in the whole of Asia. According to the world university rankings of Times Higher Education (THE), IUB stands within 400th universities globally in terms of various aspects of impact analysis.[] The Ranking Web of Universities (RWU) credited IUB as the top institution in the country in 2019. IUB, ranked 1st in Bangladesh, was also ranked 859th among the 11,852 Asian universities (excluding the Middle East), 124th among the 4,479 universities in South Asia, and 3,006th among the 28,000+ universities in the world. For comparison, the lowest-ranking institution in Bangladesh (i.e., 147th), was ranked 10,701st in Asia, 4,155th in South Asia, and 26,428th in the world, which clearly shows a wide spectrum of the quality of higher education in the country.\n",
            "As the leading host institution for Fulbright Scholars in Bangladesh, the university offers exchange programs with scholars from top American and Canadian universities. The academic curriculum at the Independent University is based on a North American liberal arts model, and courses are taught in English. There are five academic schools at the university: School of Business and Entrepreneurship (SBE); School of Engineering, Technology, and Science (SETS); School of Environment and Life Sciences (SELS); School of Liberal Arts and Social Sciences (SLASS); and School of Pharmacy and Public Health (SPPH).\n",
            "There are a lot of opportunities outside of the classroom for students to get involved. The Division of Student Affairs is responsible for organizing all student activities including the 17 university clubs. These include the art club, debating club, economics club, and film club. Students also participate in community service programs such as blood donation, fundraising for victims of natural disasters, and donating warm clothes in winter.\n",
            "\n",
            "Page: Tanweer Hasan\n",
            "Summary: Tanweer Hasan is a Bangladeshi academic and Vice-Chancellor of the Independent University, Bangladesh.\u001b[0m\n",
            "Thought:\u001b[32;1m\u001b[1;3mI have found information about IUB, including its history, academic programs, and achievements. Additionally, I have found information about the current Vice-Chancellor of the university, Tanweer Hasan.\n",
            "Final Answer: IUB is a private university in Bangladesh that was established in 1993. It has five academic schools and offers courses based on a North American liberal arts model. The university has a strong commitment to research and global partnerships, and has academic collaborations with prestigious universities such as Harvard and Stanford. Tanweer Hasan is the current Vice-Chancellor of IUB.\u001b[0m\n",
            "\n",
            "\u001b[1m> Finished chain.\u001b[0m\n"
          ]
        }
      ],
      "source": [
        "question = \"Tell me about IUB\"\n",
        "result = agent(question)"
      ]
    }
  ],
  "metadata": {
    "colab": {
      "provenance": []
    },
    "kernelspec": {
      "display_name": "Python 3",
      "name": "python3"
    },
    "language_info": {
      "name": "python"
    }
  },
  "nbformat": 4,
  "nbformat_minor": 0
}
